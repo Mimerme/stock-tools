{
 "cells": [
  {
   "cell_type": "code",
   "execution_count": 15,
   "metadata": {},
   "outputs": [
    {
     "name": "stdout",
     "output_type": "stream",
     "text": [
      "Requirement already satisfied: yfinance in c:\\users\\andros yang\\appdata\\local\\programs\\python\\python38\\lib\\site-packages (0.1.54)\n",
      "Requirement already satisfied: numpy>=1.15 in c:\\users\\andros yang\\appdata\\local\\programs\\python\\python38\\lib\\site-packages (from yfinance) (1.18.2)\n",
      "Requirement already satisfied: requests>=2.20 in c:\\users\\andros yang\\appdata\\local\\programs\\python\\python38\\lib\\site-packages (from yfinance) (2.23.0)\n",
      "Requirement already satisfied: pandas>=0.24 in c:\\users\\andros yang\\appdata\\local\\programs\\python\\python38\\lib\\site-packages (from yfinance) (0.25.3)\n",
      "Requirement already satisfied: multitasking>=0.0.7 in c:\\users\\andros yang\\appdata\\local\\programs\\python\\python38\\lib\\site-packages (from yfinance) (0.0.9)\n",
      "Requirement already satisfied: idna<3,>=2.5 in c:\\users\\andros yang\\appdata\\local\\programs\\python\\python38\\lib\\site-packages (from requests>=2.20->yfinance) (2.9)\n",
      "Requirement already satisfied: chardet<4,>=3.0.2 in c:\\users\\andros yang\\appdata\\local\\programs\\python\\python38\\lib\\site-packages (from requests>=2.20->yfinance) (3.0.4)\n",
      "Requirement already satisfied: certifi>=2017.4.17 in c:\\users\\andros yang\\appdata\\local\\programs\\python\\python38\\lib\\site-packages (from requests>=2.20->yfinance) (2020.4.5.1)\n",
      "Requirement already satisfied: urllib3!=1.25.0,!=1.25.1,<1.26,>=1.21.1 in c:\\users\\andros yang\\appdata\\local\\programs\\python\\python38\\lib\\site-packages (from requests>=2.20->yfinance) (1.25.9)\n",
      "Requirement already satisfied: pytz>=2017.2 in c:\\users\\andros yang\\appdata\\local\\programs\\python\\python38\\lib\\site-packages (from pandas>=0.24->yfinance) (2020.1)\n",
      "Requirement already satisfied: python-dateutil>=2.6.1 in c:\\users\\andros yang\\appdata\\local\\programs\\python\\python38\\lib\\site-packages (from pandas>=0.24->yfinance) (2.8.1)\n",
      "Requirement already satisfied: six>=1.5 in c:\\users\\andros yang\\appdata\\local\\programs\\python\\python38\\lib\\site-packages (from python-dateutil>=2.6.1->pandas>=0.24->yfinance) (1.14.0)\n"
     ]
    },
    {
     "name": "stderr",
     "output_type": "stream",
     "text": [
      "WARNING: You are using pip version 20.1.1; however, version 20.2.3 is available.\n",
      "You should consider upgrading via the 'c:\\users\\andros yang\\appdata\\local\\programs\\python\\python38\\python.exe -m pip install --upgrade pip' command.\n"
     ]
    },
    {
     "name": "stdout",
     "output_type": "stream",
     "text": [
      "Requirement already satisfied: mpl_finance in c:\\users\\andros yang\\appdata\\local\\programs\\python\\python38\\lib\\site-packages (0.10.1)\n",
      "Requirement already satisfied: matplotlib in c:\\users\\andros yang\\appdata\\local\\programs\\python\\python38\\lib\\site-packages (from mpl_finance) (3.2.1)\n",
      "Requirement already satisfied: python-dateutil>=2.1 in c:\\users\\andros yang\\appdata\\local\\programs\\python\\python38\\lib\\site-packages (from matplotlib->mpl_finance) (2.8.1)\n",
      "Requirement already satisfied: kiwisolver>=1.0.1 in c:\\users\\andros yang\\appdata\\local\\programs\\python\\python38\\lib\\site-packages (from matplotlib->mpl_finance) (1.2.0)\n",
      "Requirement already satisfied: pyparsing!=2.0.4,!=2.1.2,!=2.1.6,>=2.0.1 in c:\\users\\andros yang\\appdata\\local\\programs\\python\\python38\\lib\\site-packages (from matplotlib->mpl_finance) (2.4.7)\n",
      "Requirement already satisfied: cycler>=0.10 in c:\\users\\andros yang\\appdata\\local\\programs\\python\\python38\\lib\\site-packages (from matplotlib->mpl_finance) (0.10.0)\n",
      "Requirement already satisfied: numpy>=1.11 in c:\\users\\andros yang\\appdata\\local\\programs\\python\\python38\\lib\\site-packages (from matplotlib->mpl_finance) (1.18.2)\n",
      "Requirement already satisfied: six>=1.5 in c:\\users\\andros yang\\appdata\\local\\programs\\python\\python38\\lib\\site-packages (from python-dateutil>=2.1->matplotlib->mpl_finance) (1.14.0)\n"
     ]
    },
    {
     "name": "stderr",
     "output_type": "stream",
     "text": [
      "WARNING: You are using pip version 20.1.1; however, version 20.2.3 is available.\n",
      "You should consider upgrading via the 'c:\\users\\andros yang\\appdata\\local\\programs\\python\\python38\\python.exe -m pip install --upgrade pip' command.\n"
     ]
    }
   ],
   "source": [
    "!pip install yfinance\n",
    "!pip install mpl_finance"
   ]
  },
  {
   "cell_type": "code",
   "execution_count": 62,
   "metadata": {},
   "outputs": [],
   "source": [
    "import pandas as pd\n",
    "import numpy as np\n",
    "import yfinance\n",
    "from mpl_finance import candlestick_ohlc\n",
    "import matplotlib.dates as mpl_dates\n",
    "import matplotlib.pyplot as plt\n",
    "\n",
    "plt.rcParams['figure.figsize'] = [12, 7]\n",
    "\n",
    "plt.rc('font', size=14)"
   ]
  },
  {
   "cell_type": "code",
   "execution_count": 63,
   "metadata": {},
   "outputs": [
    {
     "data": {
      "text/html": [
       "<div>\n",
       "<style scoped>\n",
       "    .dataframe tbody tr th:only-of-type {\n",
       "        vertical-align: middle;\n",
       "    }\n",
       "\n",
       "    .dataframe tbody tr th {\n",
       "        vertical-align: top;\n",
       "    }\n",
       "\n",
       "    .dataframe thead th {\n",
       "        text-align: right;\n",
       "    }\n",
       "</style>\n",
       "<table border=\"1\" class=\"dataframe\">\n",
       "  <thead>\n",
       "    <tr style=\"text-align: right;\">\n",
       "      <th></th>\n",
       "      <th>Open</th>\n",
       "      <th>High</th>\n",
       "      <th>Low</th>\n",
       "      <th>Close</th>\n",
       "      <th>Volume</th>\n",
       "      <th>Dividends</th>\n",
       "      <th>Stock Splits</th>\n",
       "    </tr>\n",
       "    <tr>\n",
       "      <th>Date</th>\n",
       "      <th></th>\n",
       "      <th></th>\n",
       "      <th></th>\n",
       "      <th></th>\n",
       "      <th></th>\n",
       "      <th></th>\n",
       "      <th></th>\n",
       "    </tr>\n",
       "  </thead>\n",
       "  <tbody>\n",
       "    <tr>\n",
       "      <th>2020-03-16</th>\n",
       "      <td>237.77</td>\n",
       "      <td>253.27</td>\n",
       "      <td>234.00</td>\n",
       "      <td>236.46</td>\n",
       "      <td>297240000</td>\n",
       "      <td>0.000</td>\n",
       "      <td>0</td>\n",
       "    </tr>\n",
       "    <tr>\n",
       "      <th>2020-03-17</th>\n",
       "      <td>241.57</td>\n",
       "      <td>252.55</td>\n",
       "      <td>233.72</td>\n",
       "      <td>249.22</td>\n",
       "      <td>262070500</td>\n",
       "      <td>0.000</td>\n",
       "      <td>0</td>\n",
       "    </tr>\n",
       "    <tr>\n",
       "      <th>2020-03-18</th>\n",
       "      <td>232.91</td>\n",
       "      <td>244.86</td>\n",
       "      <td>224.79</td>\n",
       "      <td>236.60</td>\n",
       "      <td>327597100</td>\n",
       "      <td>0.000</td>\n",
       "      <td>0</td>\n",
       "    </tr>\n",
       "    <tr>\n",
       "      <th>2020-03-19</th>\n",
       "      <td>235.87</td>\n",
       "      <td>243.88</td>\n",
       "      <td>228.93</td>\n",
       "      <td>237.11</td>\n",
       "      <td>289322000</td>\n",
       "      <td>0.000</td>\n",
       "      <td>0</td>\n",
       "    </tr>\n",
       "    <tr>\n",
       "      <th>2020-03-20</th>\n",
       "      <td>240.50</td>\n",
       "      <td>242.43</td>\n",
       "      <td>226.59</td>\n",
       "      <td>226.89</td>\n",
       "      <td>347158800</td>\n",
       "      <td>1.406</td>\n",
       "      <td>0</td>\n",
       "    </tr>\n",
       "    <tr>\n",
       "      <th>...</th>\n",
       "      <td>...</td>\n",
       "      <td>...</td>\n",
       "      <td>...</td>\n",
       "      <td>...</td>\n",
       "      <td>...</td>\n",
       "      <td>...</td>\n",
       "      <td>...</td>\n",
       "    </tr>\n",
       "    <tr>\n",
       "      <th>2020-07-08</th>\n",
       "      <td>313.36</td>\n",
       "      <td>315.04</td>\n",
       "      <td>311.45</td>\n",
       "      <td>314.92</td>\n",
       "      <td>54638600</td>\n",
       "      <td>0.000</td>\n",
       "      <td>0</td>\n",
       "    </tr>\n",
       "    <tr>\n",
       "      <th>2020-07-09</th>\n",
       "      <td>315.58</td>\n",
       "      <td>315.84</td>\n",
       "      <td>309.44</td>\n",
       "      <td>313.13</td>\n",
       "      <td>83354200</td>\n",
       "      <td>0.000</td>\n",
       "      <td>0</td>\n",
       "    </tr>\n",
       "    <tr>\n",
       "      <th>2020-07-10</th>\n",
       "      <td>313.06</td>\n",
       "      <td>316.61</td>\n",
       "      <td>311.51</td>\n",
       "      <td>316.32</td>\n",
       "      <td>57550400</td>\n",
       "      <td>0.000</td>\n",
       "      <td>0</td>\n",
       "    </tr>\n",
       "    <tr>\n",
       "      <th>2020-07-13</th>\n",
       "      <td>318.85</td>\n",
       "      <td>321.42</td>\n",
       "      <td>312.88</td>\n",
       "      <td>313.58</td>\n",
       "      <td>102997500</td>\n",
       "      <td>0.000</td>\n",
       "      <td>0</td>\n",
       "    </tr>\n",
       "    <tr>\n",
       "      <th>2020-07-14</th>\n",
       "      <td>312.05</td>\n",
       "      <td>318.49</td>\n",
       "      <td>310.76</td>\n",
       "      <td>317.65</td>\n",
       "      <td>93657000</td>\n",
       "      <td>0.000</td>\n",
       "      <td>0</td>\n",
       "    </tr>\n",
       "  </tbody>\n",
       "</table>\n",
       "<p>84 rows × 7 columns</p>\n",
       "</div>"
      ],
      "text/plain": [
       "              Open    High     Low   Close     Volume  Dividends  Stock Splits\n",
       "Date                                                                          \n",
       "2020-03-16  237.77  253.27  234.00  236.46  297240000      0.000             0\n",
       "2020-03-17  241.57  252.55  233.72  249.22  262070500      0.000             0\n",
       "2020-03-18  232.91  244.86  224.79  236.60  327597100      0.000             0\n",
       "2020-03-19  235.87  243.88  228.93  237.11  289322000      0.000             0\n",
       "2020-03-20  240.50  242.43  226.59  226.89  347158800      1.406             0\n",
       "...            ...     ...     ...     ...        ...        ...           ...\n",
       "2020-07-08  313.36  315.04  311.45  314.92   54638600      0.000             0\n",
       "2020-07-09  315.58  315.84  309.44  313.13   83354200      0.000             0\n",
       "2020-07-10  313.06  316.61  311.51  316.32   57550400      0.000             0\n",
       "2020-07-13  318.85  321.42  312.88  313.58  102997500      0.000             0\n",
       "2020-07-14  312.05  318.49  310.76  317.65   93657000      0.000             0\n",
       "\n",
       "[84 rows x 7 columns]"
      ]
     },
     "execution_count": 63,
     "metadata": {},
     "output_type": "execute_result"
    }
   ],
   "source": [
    "name = 'SPY'\n",
    "ticker = yfinance.Ticker(name)\n",
    "df = ticker.history(interval=\"1d\",start=\"2020-03-15\", end=\"2020-07-15\")\n",
    "df"
   ]
  },
  {
   "cell_type": "code",
   "execution_count": 69,
   "metadata": {},
   "outputs": [],
   "source": [
    "df['Date'] = pd.to_datetime(df.index)\n",
    "df['Date'] = df['Date'].apply(mpl_dates.date2num)\n",
    "\n",
    "df = df.loc[:,['Date', 'Open', 'High', 'Low', 'Close']]"
   ]
  },
  {
   "cell_type": "code",
   "execution_count": 70,
   "metadata": {},
   "outputs": [],
   "source": [
    "# finds minimum turning points from the lows. searches 2 wide\n",
    "def isSupport(df,i):\n",
    "  support = df['Low'][i] < df['Low'][i-1]  and df['Low'][i] < df['Low'][i+1] and df['Low'][i+1] < df['Low'][i+2] and df['Low'][i-1] < df['Low'][i-2]\n",
    "  return support\n",
    "# finds max turning points from the highs. searches 2 wide\n",
    "def isResistance(df,i):\n",
    "  resistance = df['High'][i] > df['High'][i-1]  and df['High'][i] > df['High'][i+1] and df['High'][i+1] > df['High'][i+2] and df['High'][i-1] > df['High'][i-2]\n",
    "  return resistance"
   ]
  },
  {
   "cell_type": "code",
   "execution_count": 71,
   "metadata": {},
   "outputs": [
    {
     "data": {
      "text/plain": [
       "[(5, 216.44),\n",
       " (11, 261.13),\n",
       " (25, 269.75),\n",
       " (31, 292.42),\n",
       " (34, 276.8),\n",
       " (40, 291.78),\n",
       " (42, 270.71),\n",
       " (48, 290.77),\n",
       " (58, 320.71),\n",
       " (63, 294.26),\n",
       " (67, 305.31),\n",
       " (73, 297.74),\n",
       " (77, 316.41),\n",
       " (80, 309.44)]"
      ]
     },
     "execution_count": 71,
     "metadata": {},
     "output_type": "execute_result"
    }
   ],
   "source": [
    "levels = []\n",
    "for i in range(2,df.shape[0]-2):\n",
    "  if isSupport(df,i):\n",
    "    levels.append((i,df['Low'][i]))\n",
    "  elif isResistance(df,i):\n",
    "    levels.append((i,df['High'][i]))\n",
    "    \n",
    "    \n",
    "levels"
   ]
  },
  {
   "cell_type": "code",
   "execution_count": 74,
   "metadata": {},
   "outputs": [],
   "source": [
    "def plot_all():\n",
    "  fig, ax = plt.subplots()\n",
    "  candlestick_ohlc(ax,df.values,width=0.6, \\\n",
    "                   colorup='green', colordown='red', alpha=0.8)\n",
    "  date_format = mpl_dates.DateFormatter('%d %b %Y')\n",
    "  ax.xaxis.set_major_formatter(date_format)\n",
    "  fig.autofmt_xdate()\n",
    "  fig.tight_layout()\n",
    "\n",
    "  for level in levels:\n",
    "    plt.hlines(level[1],xmin=df['Date'][level[0]],\\\n",
    "               xmax=max(df['Date']),colors='blue')\n",
    "    \n",
    "  fig.show()"
   ]
  },
  {
   "cell_type": "code",
   "execution_count": 75,
   "metadata": {},
   "outputs": [
    {
     "name": "stderr",
     "output_type": "stream",
     "text": [
      "<ipython-input-74-e4942c7befe2>:14: UserWarning: Matplotlib is currently using module://ipykernel.pylab.backend_inline, which is a non-GUI backend, so cannot show the figure.\n",
      "  fig.show()\n"
     ]
    },
    {
     "data": {
      "image/png": "[encoded data removed]",
      "text/plain": [
       "<Figure size 864x504 with 1 Axes>"
      ]
     },
     "metadata": {
      "needs_background": "light"
     },
     "output_type": "display_data"
    }
   ],
   "source": [
    "plot_all()"
   ]
  }
 ],
 "metadata": {
  "kernelspec": {
   "display_name": "Python 3",
   "language": "python",
   "name": "python3"
  },
  "language_info": {
   "codemirror_mode": {
    "name": "ipython",
    "version": 3
   },
   "file_extension": ".py",
   "mimetype": "text/x-python",
   "name": "python",
   "nbconvert_exporter": "python",
   "pygments_lexer": "ipython3",
   "version": "3.8.2"
  }
 },
 "nbformat": 4,
 "nbformat_minor": 4
}
